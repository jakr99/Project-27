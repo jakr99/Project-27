{
 "cells": [
  {
   "cell_type": "code",
   "execution_count": 3,
   "id": "2eb53cee-9b97-427c-a8e7-eaf84bcff13c",
   "metadata": {},
   "outputs": [
    {
     "name": "stdout",
     "output_type": "stream",
     "text": [
      "Size of Input Array | Number of Comparisons\n",
      "---------------------------------------------\n",
      "100                  | 632\n",
      "200                  | 1536\n",
      "400                  | 4308\n",
      "1000                 | 11161\n",
      "100000               | 6311542\n"
     ]
    }
   ],
   "source": [
    "import random\n",
    "\n",
    "def partition(arr, low, high):\n",
    "    pivot = arr[low]\n",
    "    i = low + 1\n",
    "    j = high\n",
    "    comparisons = 0\n",
    "\n",
    "    while True:\n",
    "        while i <= j and arr[i] <= pivot:\n",
    "            i += 1\n",
    "            comparisons += 1\n",
    "        while i <= j and arr[j] > pivot:\n",
    "            j -= 1\n",
    "            comparisons += 1\n",
    "        if i <= j:\n",
    "            arr[i], arr[j] = arr[j], arr[i]\n",
    "        else:\n",
    "            break\n",
    "\n",
    "    arr[low], arr[j] = arr[j], arr[low]\n",
    "    return j, comparisons\n",
    "\n",
    "def quicksort(arr, low, high):\n",
    "    comparisons = 0\n",
    "    if low < high:\n",
    "        pivot_index, comparisons = partition(arr, low, high)\n",
    "        comparisons += quicksort(arr, low, pivot_index - 1)\n",
    "        comparisons += quicksort(arr, pivot_index + 1, high)\n",
    "    return comparisons\n",
    "\n",
    "def quicksort_wrapper(arr):\n",
    "    return quicksort(arr, 0, len(arr) - 1)\n",
    "\n",
    "def generate_random_array(size):\n",
    "    return [random.randint(0, 1000) for _ in range(size)]\n",
    "\n",
    "def evaluate_performance(sizes):\n",
    "    print(\"Size of Input Array | Number of Comparisons\")\n",
    "    print(\"---------------------------------------------\")\n",
    "    for size in sizes:\n",
    "        arr = generate_random_array(size)\n",
    "        comparisons = quicksort_wrapper(arr)\n",
    "        print(f\"{size:<20} | {comparisons}\")\n",
    "\n",
    "sizes = [100, 200, 400, 1000, 100000]\n",
    "evaluate_performance(sizes)\n",
    "\n"
   ]
  },
  {
   "cell_type": "code",
   "execution_count": null,
   "id": "68e0c727-1e38-4403-a5c3-2a08634fb4b6",
   "metadata": {},
   "outputs": [],
   "source": []
  }
 ],
 "metadata": {
  "kernelspec": {
   "display_name": "Python 3 (ipykernel)",
   "language": "python",
   "name": "python3"
  },
  "language_info": {
   "codemirror_mode": {
    "name": "ipython",
    "version": 3
   },
   "file_extension": ".py",
   "mimetype": "text/x-python",
   "name": "python",
   "nbconvert_exporter": "python",
   "pygments_lexer": "ipython3",
   "version": "3.12.2"
  }
 },
 "nbformat": 4,
 "nbformat_minor": 5
}
