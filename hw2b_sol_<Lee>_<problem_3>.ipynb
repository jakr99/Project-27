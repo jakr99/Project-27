{
 "cells": [
  {
   "cell_type": "code",
   "execution_count": 4,
   "id": "ae639682-5f36-40a6-a95f-5977188cf9c3",
   "metadata": {},
   "outputs": [
    {
     "name": "stdout",
     "output_type": "stream",
     "text": [
      "Size of Input Array | Number of Comparisons\n",
      "---------------------------------------------\n",
      "100                  | 1538\n",
      "200                  | 3600\n",
      "400                  | 8431\n",
      "1000                 | 24875\n",
      "100000               | 4492142\n"
     ]
    }
   ],
   "source": [
    "import random\n",
    "\n",
    "def heapify(arr, n, i):\n",
    "    comparisons = 0\n",
    "    smallest = i\n",
    "    left = 2 * i + 1\n",
    "    right = 2 * i + 2\n",
    "\n",
    "    if left < n:\n",
    "        comparisons += 1\n",
    "    if right < n:\n",
    "        comparisons += 1\n",
    "\n",
    "    if left < n and arr[left] < arr[smallest]:\n",
    "        smallest = left\n",
    "\n",
    "    if right < n and arr[right] < arr[smallest]:\n",
    "        smallest = right\n",
    "\n",
    "    if smallest != i:\n",
    "        arr[i], arr[smallest] = arr[smallest], arr[i]\n",
    "        comparisons += 1\n",
    "        comparisons += heapify(arr, n, smallest)\n",
    "\n",
    "    return comparisons\n",
    "\n",
    "def build_heap(arr):\n",
    "    comparisons = 0\n",
    "    n = len(arr)\n",
    "    for i in range(n//2 - 1, -1, -1):\n",
    "        comparisons += heapify(arr, n, i)\n",
    "    return comparisons\n",
    "\n",
    "def heap_sort(arr):\n",
    "    comparisons = build_heap(arr)\n",
    "    n = len(arr)\n",
    "    for i in range(n-1, 0, -1):\n",
    "        arr[0], arr[i] = arr[i], arr[0]\n",
    "        comparisons += heapify(arr, i, 0)\n",
    "    return comparisons\n",
    "\n",
    "def generate_random_array(size):\n",
    "    return [random.randint(0, 1000) for _ in range(size)]\n",
    "\n",
    "def evaluate_performance(sizes):\n",
    "    print(\"Size of Input Array | Number of Comparisons\")\n",
    "    print(\"---------------------------------------------\")\n",
    "    for size in sizes:\n",
    "        arr = generate_random_array(size)\n",
    "        comparisons = heap_sort(arr)\n",
    "        print(f\"{size:<20} | {comparisons}\")\n",
    "\n",
    "sizes = [100, 200, 400, 1000, 100000]\n",
    "evaluate_performance(sizes)\n"
   ]
  },
  {
   "cell_type": "code",
   "execution_count": null,
   "id": "437abfc7-cd43-4fdf-9d5e-2b1e4df2e192",
   "metadata": {},
   "outputs": [],
   "source": []
  }
 ],
 "metadata": {
  "kernelspec": {
   "display_name": "Python 3 (ipykernel)",
   "language": "python",
   "name": "python3"
  },
  "language_info": {
   "codemirror_mode": {
    "name": "ipython",
    "version": 3
   },
   "file_extension": ".py",
   "mimetype": "text/x-python",
   "name": "python",
   "nbconvert_exporter": "python",
   "pygments_lexer": "ipython3",
   "version": "3.12.2"
  }
 },
 "nbformat": 4,
 "nbformat_minor": 5
}
